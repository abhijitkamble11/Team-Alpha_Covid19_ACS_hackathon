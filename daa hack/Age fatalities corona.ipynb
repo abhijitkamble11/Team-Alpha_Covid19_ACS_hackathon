{
 "cells": [
  {
   "cell_type": "code",
   "execution_count": 1,
   "metadata": {},
   "outputs": [],
   "source": [
    "import requests\n",
    "import urllib.request\n",
    "import time\n",
    "from bs4 import BeautifulSoup\n",
    "import re\n",
    "import  pandas as pd\n",
    "import numpy as np"
   ]
  },
  {
   "cell_type": "code",
   "execution_count": 2,
   "metadata": {},
   "outputs": [],
   "source": [
    "url = 'https://www.worldometers.info/coronavirus/coronavirus-age-sex-demographics/'\n",
    "\n",
    "response = requests.get(url)"
   ]
  },
  {
   "cell_type": "code",
   "execution_count": 3,
   "metadata": {},
   "outputs": [],
   "source": [
    "\n",
    "coverpage = response.content\n",
    "soup1 = BeautifulSoup(coverpage, 'html5lib')"
   ]
  },
  {
   "cell_type": "code",
   "execution_count": 4,
   "metadata": {},
   "outputs": [],
   "source": [
    "heading=soup1.find_all('table',class_=\"table table-hover table-bordered table-condensed table-list\")\n"
   ]
  },
  {
   "cell_type": "code",
   "execution_count": 6,
   "metadata": {},
   "outputs": [],
   "source": [
    "name=heading[0]"
   ]
  },
  {
   "cell_type": "code",
   "execution_count": 7,
   "metadata": {},
   "outputs": [
    {
     "data": {
      "text/plain": [
       "<table class=\"table table-hover table-bordered table-condensed table-list\">\n",
       "<tbody>\n",
       "<tr bgcolor=\"#FCF8F8\" class=\"scrollable bordered\">\n",
       "<td height=\"33\"><div align=\"left\">AGE</div></td>\n",
       "<td>DEATH RATE<br/>\n",
       "confirmed cases <br/></td>\n",
       "<td>DEATH RATE<br/>\n",
       "all cases</td>\n",
       "</tr>\n",
       "<tr class=\"scrollable bordered\">\n",
       "<td width=\"244\"><div align=\"left\"><strong>80+ years old </strong></div></td>\n",
       "<td width=\"125\"><div align=\"right\"><strong>21.9%</strong></div></td>\n",
       "<td width=\"125\"><div align=\"right\"><strong>14.8%</strong></div></td>\n",
       "</tr>\n",
       "<tr class=\"scrollable bordered\">\n",
       "<td><div align=\"left\"><strong>70-79 years old </strong></div></td>\n",
       "<td><div align=\"right\"></div></td>\n",
       "<td><div align=\"right\"><strong>8.0%</strong></div></td>\n",
       "</tr>\n",
       "<tr class=\"scrollable bordered\">\n",
       "<td><div align=\"left\"><strong>60-69 years old </strong></div></td>\n",
       "<td><div align=\"right\"></div></td>\n",
       "<td><div align=\"right\"><strong>3.6%</strong></div></td>\n",
       "</tr>\n",
       "<tr class=\"scrollable bordered\">\n",
       "<td><div align=\"left\"><strong>50-59 years old </strong></div></td>\n",
       "<td><div align=\"right\"></div></td>\n",
       "<td><div align=\"right\"><strong>1.3%</strong></div></td>\n",
       "</tr>\n",
       "<tr class=\"scrollable bordered\">\n",
       "<td><div align=\"left\"><strong>40-49 years old </strong></div></td>\n",
       "<td><div align=\"right\"></div></td>\n",
       "<td><div align=\"right\"><strong>0.4%</strong></div></td>\n",
       "</tr>\n",
       "<tr class=\"scrollable bordered\">\n",
       "<td><div align=\"left\"><strong>30-39 years old </strong></div></td>\n",
       "<td><div align=\"right\"></div></td>\n",
       "<td><div align=\"right\"><strong>0.2%</strong></div></td>\n",
       "</tr>\n",
       "<tr class=\"scrollable bordered\">\n",
       "<td><div align=\"left\"><strong>20-29 years old </strong></div></td>\n",
       "<td><div align=\"right\"></div></td>\n",
       "<td><div align=\"right\"><strong>0.2%</strong></div></td>\n",
       "</tr>\n",
       "<tr class=\"scrollable bordered\">\n",
       "<td><div align=\"left\"><strong>10-19 years old </strong></div></td>\n",
       "<td><div align=\"right\"></div></td>\n",
       "<td><div align=\"right\"><strong>0.2%</strong></div></td>\n",
       "</tr>\n",
       "<tr class=\"scrollable bordered\">\n",
       "<td><strong>0-9 years old </strong></td>\n",
       "<td><div align=\"right\"></div></td>\n",
       "<td><div align=\"right\"><strong>no fatalities </strong></div></td>\n",
       "</tr>\n",
       "</tbody>\n",
       "</table>"
      ]
     },
     "execution_count": 7,
     "metadata": {},
     "output_type": "execute_result"
    }
   ],
   "source": [
    "name"
   ]
  },
  {
   "cell_type": "code",
   "execution_count": 8,
   "metadata": {},
   "outputs": [],
   "source": [
    "import re\n",
    "\n",
    "header=[]\n",
    "values=[]\n",
    "for trs in name.find_all('tr'):\n",
    "        heading1=trs.get_text(strip=True)\n",
    "        word1 = \" \".join(re.findall(\"[a-zA-Z]+\",heading1 ))\n",
    "        tds = trs.find_all('td')\n",
    "        row = [elem.text.strip(u'\\u200b') for elem in tds]\n",
    "        header.append(word1)\n",
    "        values.append(row)\n",
    "        \n",
    "\n",
    "        "
   ]
  },
  {
   "cell_type": "code",
   "execution_count": 17,
   "metadata": {},
   "outputs": [
    {
     "data": {
      "text/plain": [
       "[['AGE', 'DEATH RATE\\nconfirmed cases ', 'DEATH RATE\\nall cases'],\n",
       " ['80+ years old ', '21.9%', '14.8%'],\n",
       " ['70-79 years old ', '', '8.0%'],\n",
       " ['60-69 years old ', '', '3.6%'],\n",
       " ['50-59 years old ', '', '1.3%'],\n",
       " ['40-49 years old ', '', '0.4%'],\n",
       " ['30-39 years old ', '', '0.2%'],\n",
       " ['20-29 years old ', '', '0.2%'],\n",
       " ['10-19 years old ', '', '0.2%'],\n",
       " ['0-9 years old ', '', 'no fatalities ']]"
      ]
     },
     "execution_count": 17,
     "metadata": {},
     "output_type": "execute_result"
    }
   ],
   "source": [
    "values"
   ]
  },
  {
   "cell_type": "code",
   "execution_count": 18,
   "metadata": {},
   "outputs": [],
   "source": [
    "Age=[]\n",
    "for x in values:\n",
    "    Age.append(x[0])\n",
    "\n"
   ]
  },
  {
   "cell_type": "code",
   "execution_count": 20,
   "metadata": {},
   "outputs": [],
   "source": [
    "Death_Rate=[]\n",
    "for x in values:\n",
    "    Death_Rate.append(x[2])"
   ]
  },
  {
   "cell_type": "code",
   "execution_count": 24,
   "metadata": {},
   "outputs": [],
   "source": [
    "Death_Rate=Death_Rate[1:]"
   ]
  },
  {
   "cell_type": "code",
   "execution_count": 22,
   "metadata": {},
   "outputs": [],
   "source": [
    "Age=Age[1:]"
   ]
  },
  {
   "cell_type": "code",
   "execution_count": 31,
   "metadata": {},
   "outputs": [],
   "source": [
    "Age1=[]\n",
    "for y in Age:\n",
    "    z=y.replace('years old','')\n",
    "    Age1.append(z)"
   ]
  },
  {
   "cell_type": "code",
   "execution_count": 37,
   "metadata": {},
   "outputs": [],
   "source": [
    "import pandas as pd\n",
    "AgeDistribution = {'Age':Age1,\n",
    "        'Death Rate': Death_Rate\n",
    "        }\n"
   ]
  },
  {
   "cell_type": "code",
   "execution_count": 38,
   "metadata": {},
   "outputs": [],
   "source": [
    "df = pd.DataFrame(AgeDistribution, columns = ['Age', 'Death Rate'])\n",
    "df.to_csv(\"C:/Users/smohammed/Desktop/Tableau/corona virus/daa hack/Agefatalities.csv\",index= False)"
   ]
  },
  {
   "cell_type": "code",
   "execution_count": 61,
   "metadata": {},
   "outputs": [
    {
     "data": {
      "image/png": "[encoded data removed]",
      "text/plain": [
       "<Figure size 576x450 with 1 Axes>"
      ]
     },
     "metadata": {
      "needs_background": "light"
     },
     "output_type": "display_data"
    }
   ],
   "source": [
    "import pandas as pd\n",
    "import numpy as np\n",
    "import matplotlib.pyplot as plt\n",
    "import six\n",
    "\n",
    "\n",
    "def render_mpl_table(data, col_width=3.0, row_height=0.625, font_size=14,\n",
    "                     header_color='#40466e', row_colors=['#f1f1f2', 'w'], edge_color='w',\n",
    "                     bbox=[0, 0, 1, 1], header_columns=0,\n",
    "                     ax=None, **kwargs):\n",
    "    if ax is None:\n",
    "        size = (np.array(data.shape[::-1]) + np.array([0, 1])) * np.array([col_width, row_height])\n",
    "        fig, ax = plt.subplots(figsize=size)\n",
    "        ax.axis('off')\n",
    "\n",
    "    mpl_table = ax.table(cellText=data.values, bbox=bbox, colLabels=data.columns, **kwargs)\n",
    "\n",
    "    mpl_table.auto_set_font_size(False)\n",
    "    mpl_table.set_fontsize(font_size)\n",
    "\n",
    "    for k, cell in  six.iteritems(mpl_table._cells):\n",
    "        cell.set_edgecolor(edge_color)\n",
    "        if k[0] == 0 or k[1] < header_columns:\n",
    "            cell.set_text_props(weight='bold', color='w')\n",
    "            cell.set_facecolor(header_color)\n",
    "        else:\n",
    "            cell.set_facecolor(row_colors[k[0]%len(row_colors) ])\n",
    "    return ax\n",
    "\n",
    "a=render_mpl_table(df, header_columns=0, col_width=4.0)\n",
    "fig=a.get_figure()\n",
    "fig.savefig(\"C:/Users/smohammed/Desktop/Tableau/corona virus/daa hack/startbootstrap-one-page-wonder-gh-pages/AgeFatalities.png\")"
   ]
  },
  {
   "cell_type": "code",
   "execution_count": 41,
   "metadata": {},
   "outputs": [],
   "source": [
    "name2=heading[1]"
   ]
  },
  {
   "cell_type": "code",
   "execution_count": 42,
   "metadata": {},
   "outputs": [
    {
     "data": {
      "text/plain": [
       "<table class=\"table table-hover table-bordered table-condensed table-list\">\n",
       "<tbody>\n",
       "<tr bgcolor=\"#FCF8F8\" class=\"scrollable bordered\">\n",
       "<td height=\"33\"><div align=\"left\">SEX</div></td>\n",
       "<td>DEATH RATE<br/>\n",
       "confirmed cases <br/></td>\n",
       "<td>DEATH RATE<br/>\n",
       "all cases</td>\n",
       "</tr>\n",
       "<tr class=\"scrollable bordered\">\n",
       "<td width=\"209\"><div align=\"left\"><strong>Male</strong></div></td>\n",
       "<td width=\"151\"><div align=\"right\"><strong>4.7%</strong></div></td>\n",
       "<td width=\"142\"><div align=\"right\"><strong>2.8%</strong></div></td>\n",
       "</tr>\n",
       "<tr class=\"scrollable bordered\">\n",
       "<td><div align=\"left\"><strong>Female</strong></div></td>\n",
       "<td><div align=\"right\"><strong>2.8%</strong></div></td>\n",
       "<td><div align=\"right\"><strong>1.7%</strong></div></td>\n",
       "</tr>\n",
       "</tbody>\n",
       "</table>"
      ]
     },
     "execution_count": 42,
     "metadata": {},
     "output_type": "execute_result"
    }
   ],
   "source": [
    "name2"
   ]
  },
  {
   "cell_type": "code",
   "execution_count": 43,
   "metadata": {},
   "outputs": [],
   "source": [
    "name3=heading[2]"
   ]
  },
  {
   "cell_type": "code",
   "execution_count": 44,
   "metadata": {},
   "outputs": [
    {
     "data": {
      "text/plain": [
       "<table class=\"table table-hover table-bordered table-condensed table-list\">\n",
       "<tbody>\n",
       "<tr bgcolor=\"#FCF8F8\" class=\"scrollable bordered\">\n",
       "<td height=\"33\"><div align=\"left\">PRE-EXISTING CONDITION</div></td>\n",
       "<td>DEATH RATE<br/>\n",
       "confirmed cases <br/></td>\n",
       "<td>DEATH RATE<br/>\n",
       "all cases</td>\n",
       "</tr>\n",
       "<tr class=\"scrollable bordered\">\n",
       "<td width=\"252\"><div align=\"left\"><strong><span class=\"story-body__list-item\">Cardiovascular disease</span></strong></div></td>\n",
       "<td width=\"141\"><div align=\"right\"><strong>13.2%</strong></div></td>\n",
       "<td width=\"122\"><div align=\"right\"><strong>10.5%</strong></div></td>\n",
       "</tr>\n",
       "<tr class=\"scrollable bordered\">\n",
       "<td><div align=\"left\"><strong><span class=\"story-body__list-item\">Diabetes</span></strong></div></td>\n",
       "<td><div align=\"right\"><strong>9.2%</strong></div></td>\n",
       "<td><div align=\"right\"><strong>7.3%</strong></div></td>\n",
       "</tr>\n",
       "<tr class=\"scrollable bordered\">\n",
       "<td><div align=\"left\"><span class=\"story-body__list-item\"><strong>Chronic respiratory disease</strong></span></div></td>\n",
       "<td><div align=\"right\"><strong>8.0%</strong></div></td>\n",
       "<td><div align=\"right\"><strong>6.3%</strong></div></td>\n",
       "</tr>\n",
       "<tr class=\"scrollable bordered\">\n",
       "<td><div align=\"left\"><strong><span class=\"story-body__list-item\">Hypertension</span></strong></div></td>\n",
       "<td><div align=\"right\"><strong>8.4%</strong></div></td>\n",
       "<td><div align=\"right\"><strong>6.0%</strong></div></td>\n",
       "</tr>\n",
       "<tr class=\"scrollable bordered\">\n",
       "<td><div align=\"left\"><strong>Cancer</strong></div></td>\n",
       "<td><div align=\"right\"><strong>7.6%</strong></div></td>\n",
       "<td><div align=\"right\"><strong>5.6%</strong></div></td>\n",
       "</tr>\n",
       "<tr bgcolor=\"#F9F9F9\" class=\"scrollable bordered\">\n",
       "<td><div align=\"left\"><strong><em>no pre-existing conditions </em></strong></div></td>\n",
       "<td><div align=\"right\"></div></td>\n",
       "<td><div align=\"right\"><strong>0.9%</strong></div></td>\n",
       "</tr>\n",
       "</tbody>\n",
       "</table>"
      ]
     },
     "execution_count": 44,
     "metadata": {},
     "output_type": "execute_result"
    }
   ],
   "source": [
    "name3"
   ]
  },
  {
   "cell_type": "code",
   "execution_count": 45,
   "metadata": {},
   "outputs": [],
   "source": [
    "import re\n",
    "\n",
    "header2=[]\n",
    "values2=[]\n",
    "for trs in name3.find_all('tr'):\n",
    "        heading1=trs.get_text(strip=True)\n",
    "        word1 = \" \".join(re.findall(\"[a-zA-Z]+\",heading1 ))\n",
    "        tds = trs.find_all('td')\n",
    "        row = [elem.text.strip(u'\\u200b') for elem in tds]\n",
    "        header2.append(word1)\n",
    "        values2.append(row)\n",
    "        \n",
    "\n",
    "        "
   ]
  },
  {
   "cell_type": "code",
   "execution_count": 46,
   "metadata": {},
   "outputs": [
    {
     "data": {
      "text/plain": [
       "[['PRE-EXISTING CONDITION',\n",
       "  'DEATH RATE\\nconfirmed cases ',\n",
       "  'DEATH RATE\\nall cases'],\n",
       " ['Cardiovascular disease', '13.2%', '10.5%'],\n",
       " ['Diabetes', '9.2%', '7.3%'],\n",
       " ['Chronic respiratory disease', '8.0%', '6.3%'],\n",
       " ['Hypertension', '8.4%', '6.0%'],\n",
       " ['Cancer', '7.6%', '5.6%'],\n",
       " ['no pre-existing conditions ', '', '0.9%']]"
      ]
     },
     "execution_count": 46,
     "metadata": {},
     "output_type": "execute_result"
    }
   ],
   "source": [
    "values2"
   ]
  },
  {
   "cell_type": "code",
   "execution_count": 47,
   "metadata": {},
   "outputs": [],
   "source": [
    "condition=[]\n",
    "for x in values2:\n",
    "    condition.append(x[0])\n",
    "\n",
    "condition=condition[1:]"
   ]
  },
  {
   "cell_type": "code",
   "execution_count": 56,
   "metadata": {},
   "outputs": [],
   "source": [
    "condition1=[]\n",
    "for y in condition:\n",
    "    z=y.replace('disease','')\n",
    "    z=z.replace('no pre-existing conditions','None')\n",
    "    z=z.replace('respiratory','')\n",
    "    condition1.append(z)"
   ]
  },
  {
   "cell_type": "code",
   "execution_count": 48,
   "metadata": {},
   "outputs": [],
   "source": [
    "Death_Rate2=[]\n",
    "for x in values2:\n",
    "    Death_Rate2.append(x[2])\n",
    "Death_Rate2=Death_Rate2[1:]"
   ]
  },
  {
   "cell_type": "code",
   "execution_count": 57,
   "metadata": {},
   "outputs": [],
   "source": [
    "import pandas as pd\n",
    "Preconditionstats = {'Condition':condition1,\n",
    "        'Death Rate': Death_Rate2\n",
    "        }\n"
   ]
  },
  {
   "cell_type": "code",
   "execution_count": 58,
   "metadata": {},
   "outputs": [],
   "source": [
    "df_cond = pd.DataFrame(Preconditionstats, columns = ['Condition', 'Death Rate'])\n"
   ]
  },
  {
   "cell_type": "code",
   "execution_count": 60,
   "metadata": {},
   "outputs": [
    {
     "data": {
      "image/png": "[encoded data removed]",
      "text/plain": [
       "<Figure size 576x315 with 1 Axes>"
      ]
     },
     "metadata": {
      "needs_background": "light"
     },
     "output_type": "display_data"
    }
   ],
   "source": [
    "import pandas as pd\n",
    "import numpy as np\n",
    "import matplotlib.pyplot as plt\n",
    "import six\n",
    "\n",
    "\n",
    "def render_mpl_table(data, col_width=3.0, row_height=0.625, font_size=14,\n",
    "                     header_color='#40466e', row_colors=['#f1f1f2', 'w'], edge_color='w',\n",
    "                     bbox=[0, 0, 1, 1], header_columns=0,\n",
    "                     ax=None, **kwargs):\n",
    "    if ax is None:\n",
    "        size = (np.array(data.shape[::-1]) + np.array([0, 1])) * np.array([col_width, row_height])\n",
    "        fig, ax = plt.subplots(figsize=size)\n",
    "        ax.axis('off')\n",
    "\n",
    "    mpl_table = ax.table(cellText=data.values, bbox=bbox, colLabels=data.columns, **kwargs)\n",
    "\n",
    "    mpl_table.auto_set_font_size(False)\n",
    "    mpl_table.set_fontsize(font_size)\n",
    "\n",
    "    for k, cell in  six.iteritems(mpl_table._cells):\n",
    "        cell.set_edgecolor(edge_color)\n",
    "        if k[0] == 0 or k[1] < header_columns:\n",
    "            cell.set_text_props(weight='bold', color='w')\n",
    "            cell.set_facecolor(header_color)\n",
    "        else:\n",
    "            cell.set_facecolor(row_colors[k[0]%len(row_colors) ])\n",
    "    return ax\n",
    "\n",
    "a=render_mpl_table(df_cond, header_columns=0, col_width=4.0)\n",
    "fig=a.get_figure()\n",
    "fig.savefig(\"C:/Users/smohammed/Desktop/Tableau/corona virus/daa hack/startbootstrap-one-page-wonder-gh-pages/PrecondFatalities.png\")"
   ]
  },
  {
   "cell_type": "code",
   "execution_count": 65,
   "metadata": {},
   "outputs": [],
   "source": [
    "url2 = \"https://www.worldometers.info/coronavirus/coronavirus-symptoms/\"\n",
    "response2 = requests.get(url2)\n",
    "coverpage2 = response2.content\n",
    "soup2 = BeautifulSoup(coverpage2, 'html5lib')\n",
    "heading4=soup2.find_all('table',class_=\"table table-hover table-bordered table-condensed table-list\")\n",
    "name5=heading4[2]\n",
    "import re\n",
    "\n",
    "header5=[]\n",
    "values5=[]\n",
    "for trs in name5.find_all('tr'):\n",
    "        heading1=trs.get_text(strip=True)\n",
    "        word1 = \" \".join(re.findall(\"[a-zA-Z]+\",heading1 ))\n",
    "        tds = trs.find_all('td')\n",
    "        row = [elem.text.strip(u'\\u200b') for elem in tds]\n",
    "        header5.append(word1)\n",
    "        values5.append(row)\n",
    "\n",
    "\n",
    "        "
   ]
  },
  {
   "cell_type": "code",
   "execution_count": 67,
   "metadata": {},
   "outputs": [],
   "source": [
    "values5\n",
    "Symptom=[]\n",
    "for x in values5:\n",
    "    Symptom.append(x[0])\n",
    "\n"
   ]
  },
  {
   "cell_type": "code",
   "execution_count": 69,
   "metadata": {},
   "outputs": [],
   "source": [
    "Symptom=Symptom[1:]\n"
   ]
  },
  {
   "cell_type": "code",
   "execution_count": 70,
   "metadata": {},
   "outputs": [],
   "source": [
    "Symptom=Symptom[:-1]"
   ]
  },
  {
   "cell_type": "code",
   "execution_count": null,
   "metadata": {},
   "outputs": [],
   "source": [
    "Symptom=Symptom[:-1]"
   ]
  },
  {
   "cell_type": "code",
   "execution_count": 73,
   "metadata": {},
   "outputs": [
    {
     "data": {
      "text/plain": [
       "['Fever',\n",
       " 'Cough',\n",
       " 'Shortness of breath',\n",
       " 'Muscle ache',\n",
       " 'Confusion',\n",
       " 'Headache',\n",
       " 'Sore throat',\n",
       " 'Rhinorrhoea (runny nose) ',\n",
       " 'Chest pain',\n",
       " 'Diarrhea',\n",
       " 'Nausea and vomiting']"
      ]
     },
     "execution_count": 73,
     "metadata": {},
     "output_type": "execute_result"
    }
   ],
   "source": [
    "Symptom"
   ]
  },
  {
   "cell_type": "code",
   "execution_count": null,
   "metadata": {},
   "outputs": [],
   "source": [
    "values6=values5[1:]"
   ]
  },
  {
   "cell_type": "code",
   "execution_count": 79,
   "metadata": {},
   "outputs": [],
   "source": [
    "Percentage_reported=[]\n",
    "for x in values6:\n",
    "    Percentage_reported.append(x[1])"
   ]
  },
  {
   "cell_type": "code",
   "execution_count": 82,
   "metadata": {},
   "outputs": [],
   "source": [
    "Percentage_reported=Percentage_reported[:-1]"
   ]
  },
  {
   "cell_type": "code",
   "execution_count": 84,
   "metadata": {},
   "outputs": [],
   "source": [
    "Percentage_reported=Percentage_reported[:-1]"
   ]
  },
  {
   "cell_type": "code",
   "execution_count": 85,
   "metadata": {},
   "outputs": [
    {
     "data": {
      "text/plain": [
       "['83%', '82%', '31%', '11%', '9%', '8%', '5%', '4%', '2%', '2%', '1%']"
      ]
     },
     "execution_count": 85,
     "metadata": {},
     "output_type": "execute_result"
    }
   ],
   "source": [
    "Percentage_reported"
   ]
  },
  {
   "cell_type": "code",
   "execution_count": 86,
   "metadata": {},
   "outputs": [],
   "source": [
    "import pandas as pd\n",
    "Percentage = {'Symptom':Symptom,\n",
    "        'Reported Percentage': Percentage_reported\n",
    "        }\n"
   ]
  },
  {
   "cell_type": "code",
   "execution_count": 87,
   "metadata": {},
   "outputs": [],
   "source": [
    "df_symptom = pd.DataFrame(Percentage, columns = ['Symptom', 'Reported Percentage'])"
   ]
  },
  {
   "cell_type": "code",
   "execution_count": 88,
   "metadata": {},
   "outputs": [
    {
     "data": {
      "image/png": "[encoded data removed]",
      "text/plain": [
       "<Figure size 576x540 with 1 Axes>"
      ]
     },
     "metadata": {
      "needs_background": "light"
     },
     "output_type": "display_data"
    }
   ],
   "source": [
    "import pandas as pd\n",
    "import numpy as np\n",
    "import matplotlib.pyplot as plt\n",
    "import six\n",
    "\n",
    "\n",
    "def render_mpl_table(data, col_width=3.0, row_height=0.625, font_size=14,\n",
    "                     header_color='#40466e', row_colors=['#f1f1f2', 'w'], edge_color='w',\n",
    "                     bbox=[0, 0, 1, 1], header_columns=0,\n",
    "                     ax=None, **kwargs):\n",
    "    if ax is None:\n",
    "        size = (np.array(data.shape[::-1]) + np.array([0, 1])) * np.array([col_width, row_height])\n",
    "        fig, ax = plt.subplots(figsize=size)\n",
    "        ax.axis('off')\n",
    "\n",
    "    mpl_table = ax.table(cellText=data.values, bbox=bbox, colLabels=data.columns, **kwargs)\n",
    "\n",
    "    mpl_table.auto_set_font_size(False)\n",
    "    mpl_table.set_fontsize(font_size)\n",
    "\n",
    "    for k, cell in  six.iteritems(mpl_table._cells):\n",
    "        cell.set_edgecolor(edge_color)\n",
    "        if k[0] == 0 or k[1] < header_columns:\n",
    "            cell.set_text_props(weight='bold', color='w')\n",
    "            cell.set_facecolor(header_color)\n",
    "        else:\n",
    "            cell.set_facecolor(row_colors[k[0]%len(row_colors) ])\n",
    "    return ax\n",
    "\n",
    "a=render_mpl_table(df_symptom, header_columns=0, col_width=4.0)\n",
    "fig=a.get_figure()\n",
    "fig.savefig(\"C:/Users/smohammed/Desktop/Tableau/corona virus/daa hack/startbootstrap-one-page-wonder-gh-pages/Symptom.png\")"
   ]
  }
 ],
 "metadata": {
  "kernelspec": {
   "display_name": "Python 3",
   "language": "python",
   "name": "python3"
  },
  "language_info": {
   "codemirror_mode": {
    "name": "ipython",
    "version": 3
   },
   "file_extension": ".py",
   "mimetype": "text/x-python",
   "name": "python",
   "nbconvert_exporter": "python",
   "pygments_lexer": "ipython3",
   "version": "3.7.3"
  }
 },
 "nbformat": 4,
 "nbformat_minor": 2
}
